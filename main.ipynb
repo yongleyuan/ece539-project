{
 "cells": [
  {
   "cell_type": "markdown",
   "metadata": {},
   "source": [
    "# ECE 539 Project: Analysis and Prediction of Heart Disease (Main Code)"
   ]
  },
  {
   "cell_type": "code",
   "execution_count": 1,
   "metadata": {},
   "outputs": [],
   "source": [
    "# IMPORT LIBRARIES AND SET WORKING DIRECTORY\n",
    "\n",
    "DIR = './'\n",
    "\n",
    "'''\n",
    "# To use Google Colab, uncomment this section and set DIR (above) to appropriate directory path\n",
    "from google.colab import drive\n",
    "drive.mount('/content/drive')\n",
    "DIR = '/content/drive/...'\n",
    "'''\n",
    "\n",
    "import os\n",
    "\n",
    "import numpy as np\n",
    "import pandas as pd\n",
    "import tensorflow as tf\n",
    "import matplotlib.pyplot as plt\n",
    "\n",
    "from sklearn.preprocessing import OneHotEncoder, normalize\n",
    "from sklearn.model_selection import train_test_split\n",
    "from sklearn.metrics import confusion_matrix\n",
    "from sklearn.linear_model import LogisticRegression\n",
    "from sklearn.svm import LinearSVC\n",
    "from sklearn.tree import DecisionTreeClassifier\n",
    "from sklearn.ensemble import RandomForestClassifier\n",
    "from sklearn.naive_bayes import GaussianNB\n",
    "from sklearn.neighbors import KNeighborsClassifier\n",
    "from sklearn.cluster import KMeans\n",
    "from sklearn.metrics import accuracy_score, precision_score, recall_score, f1_score\n",
    "from sklearn.metrics import plot_confusion_matrix\n",
    "\n",
    "import seaborn as sn\n"
   ]
  },
  {
   "cell_type": "markdown",
   "metadata": {},
   "source": [
    "## Data Fetching"
   ]
  },
  {
   "cell_type": "code",
   "execution_count": 2,
   "metadata": {},
   "outputs": [],
   "source": [
    "# data from https://www.kaggle.com/datasets/johnsmith88/heart-disease-dataset\n",
    "# possible alternate: https://www.kaggle.com/datasets/fedesoriano/heart-failure-prediction?select=heart.csv\n",
    "\n",
    "data = pd.read_csv(os.path.join(DIR, 'heart.csv'), delimiter=',')"
   ]
  },
  {
   "cell_type": "code",
   "execution_count": 3,
   "metadata": {},
   "outputs": [
    {
     "data": {
      "text/html": [
       "<div>\n",
       "<style scoped>\n",
       "    .dataframe tbody tr th:only-of-type {\n",
       "        vertical-align: middle;\n",
       "    }\n",
       "\n",
       "    .dataframe tbody tr th {\n",
       "        vertical-align: top;\n",
       "    }\n",
       "\n",
       "    .dataframe thead th {\n",
       "        text-align: right;\n",
       "    }\n",
       "</style>\n",
       "<table border=\"1\" class=\"dataframe\">\n",
       "  <thead>\n",
       "    <tr style=\"text-align: right;\">\n",
       "      <th></th>\n",
       "      <th>Age</th>\n",
       "      <th>Sex</th>\n",
       "      <th>ChestPainType</th>\n",
       "      <th>RestingBP</th>\n",
       "      <th>Cholesterol</th>\n",
       "      <th>FastingBS</th>\n",
       "      <th>RestingECG</th>\n",
       "      <th>MaxHR</th>\n",
       "      <th>ExerciseAngina</th>\n",
       "      <th>Oldpeak</th>\n",
       "      <th>ST_Slope</th>\n",
       "      <th>HeartDisease</th>\n",
       "    </tr>\n",
       "  </thead>\n",
       "  <tbody>\n",
       "    <tr>\n",
       "      <th>0</th>\n",
       "      <td>40</td>\n",
       "      <td>M</td>\n",
       "      <td>ATA</td>\n",
       "      <td>140</td>\n",
       "      <td>289</td>\n",
       "      <td>0</td>\n",
       "      <td>Normal</td>\n",
       "      <td>172</td>\n",
       "      <td>N</td>\n",
       "      <td>0.0</td>\n",
       "      <td>Up</td>\n",
       "      <td>0</td>\n",
       "    </tr>\n",
       "    <tr>\n",
       "      <th>1</th>\n",
       "      <td>49</td>\n",
       "      <td>F</td>\n",
       "      <td>NAP</td>\n",
       "      <td>160</td>\n",
       "      <td>180</td>\n",
       "      <td>0</td>\n",
       "      <td>Normal</td>\n",
       "      <td>156</td>\n",
       "      <td>N</td>\n",
       "      <td>1.0</td>\n",
       "      <td>Flat</td>\n",
       "      <td>1</td>\n",
       "    </tr>\n",
       "    <tr>\n",
       "      <th>2</th>\n",
       "      <td>37</td>\n",
       "      <td>M</td>\n",
       "      <td>ATA</td>\n",
       "      <td>130</td>\n",
       "      <td>283</td>\n",
       "      <td>0</td>\n",
       "      <td>ST</td>\n",
       "      <td>98</td>\n",
       "      <td>N</td>\n",
       "      <td>0.0</td>\n",
       "      <td>Up</td>\n",
       "      <td>0</td>\n",
       "    </tr>\n",
       "  </tbody>\n",
       "</table>\n",
       "</div>"
      ],
      "text/plain": [
       "   Age Sex ChestPainType  RestingBP  Cholesterol  FastingBS RestingECG  MaxHR  \\\n",
       "0   40   M           ATA        140          289          0     Normal    172   \n",
       "1   49   F           NAP        160          180          0     Normal    156   \n",
       "2   37   M           ATA        130          283          0         ST     98   \n",
       "\n",
       "  ExerciseAngina  Oldpeak ST_Slope  HeartDisease  \n",
       "0              N      0.0       Up             0  \n",
       "1              N      1.0     Flat             1  \n",
       "2              N      0.0       Up             0  "
      ]
     },
     "execution_count": 3,
     "metadata": {},
     "output_type": "execute_result"
    }
   ],
   "source": [
    "data.head(3)"
   ]
  },
  {
   "cell_type": "markdown",
   "metadata": {},
   "source": [
    "## Data Processing"
   ]
  },
  {
   "cell_type": "markdown",
   "metadata": {},
   "source": [
    "In the original data, some features consist string values. We need to convert them to numbers. In this case, we use one hot encoding to ensure unbiased analysis."
   ]
  },
  {
   "cell_type": "code",
   "execution_count": 4,
   "metadata": {},
   "outputs": [],
   "source": [
    "encoder = OneHotEncoder(handle_unknown='ignore')\n",
    "\n",
    "Sex_df = pd.DataFrame(encoder.fit_transform(data[['Sex']]).toarray())\n",
    "ChestPainType_df = pd.DataFrame(encoder.fit_transform(data[['ChestPainType']]).toarray())\n",
    "RestingECG_df =  pd.DataFrame(encoder.fit_transform(data[['RestingECG']]).toarray())\n",
    "ExerciseAngina_df = pd.DataFrame(encoder.fit_transform(data[['ExerciseAngina']]).toarray())\n",
    "ST_Slope_df = pd.DataFrame(encoder.fit_transform(data[['ST_Slope']]).toarray())\n",
    "\n",
    "data = pd.concat([data, Sex_df, ChestPainType_df, RestingECG_df, ExerciseAngina_df, ST_Slope_df], axis=1)\n",
    "data = pd.concat([data, ChestPainType_df, ], axis=1)\n",
    "\n",
    "data.drop('Sex', axis=1, inplace=True)\n",
    "data.drop('ChestPainType', axis=1, inplace=True)\n",
    "data.drop('RestingECG', axis=1, inplace=True)\n",
    "data.drop('ExerciseAngina', axis=1, inplace=True)\n",
    "data.drop('ST_Slope', axis=1, inplace=True)\n",
    "y_data = data['HeartDisease']\n",
    "data.drop('HeartDisease', axis=1, inplace=True)"
   ]
  },
  {
   "cell_type": "code",
   "execution_count": 5,
   "metadata": {},
   "outputs": [],
   "source": [
    "# Get featues and labels and normalize\n",
    "\n",
    "X = data.to_numpy()\n",
    "y = y_data.to_numpy()\n",
    "\n",
    "X = normalize(X)"
   ]
  },
  {
   "cell_type": "code",
   "execution_count": 6,
   "metadata": {},
   "outputs": [],
   "source": [
    "from sklearn.decomposition import PCA\n",
    "\n",
    "# X = PCA(n_components=15).fit_transform(X)"
   ]
  },
  {
   "cell_type": "code",
   "execution_count": 7,
   "metadata": {},
   "outputs": [
    {
     "data": {
      "text/plain": [
       "9771"
      ]
     },
     "execution_count": 7,
     "metadata": {},
     "output_type": "execute_result"
    }
   ],
   "source": [
    "np.count_nonzero(X)"
   ]
  },
  {
   "cell_type": "code",
   "execution_count": 8,
   "metadata": {},
   "outputs": [
    {
     "data": {
      "text/plain": [
       "22032"
      ]
     },
     "execution_count": 8,
     "metadata": {},
     "output_type": "execute_result"
    }
   ],
   "source": [
    "X.shape[0]*X.shape[1]"
   ]
  },
  {
   "cell_type": "code",
   "execution_count": 9,
   "metadata": {},
   "outputs": [],
   "source": [
    "# Split data\n",
    "# train/test/validation = 70/15/15\n",
    "# Random state set to get the same results\n",
    "\n",
    "X_train, X_test, y_train, y_test = train_test_split(X, y, test_size=0.15, random_state=1, shuffle=True)\n",
    "X_train, X_val, y_train, y_val = train_test_split(X_train, y_train, test_size=0.15, random_state=1, shuffle=True)"
   ]
  },
  {
   "cell_type": "markdown",
   "metadata": {},
   "source": [
    "## Data Analysis"
   ]
  },
  {
   "cell_type": "code",
   "execution_count": 10,
   "metadata": {},
   "outputs": [],
   "source": [
    "models = {}\n",
    "models['Logistic Regression'] = LogisticRegression(max_iter=20000)\n",
    "models['Support Vector Machine'] = LinearSVC(max_iter=200000)\n",
    "models['Decision Tree'] = DecisionTreeClassifier()\n",
    "models['Random Forest'] = RandomForestClassifier()\n",
    "models['Naive Bayes'] = GaussianNB()\n",
    "models['K Nearest Neighbor'] = KNeighborsClassifier()"
   ]
  },
  {
   "cell_type": "code",
   "execution_count": 11,
   "metadata": {},
   "outputs": [],
   "source": [
    "accuracy, precision, recall, f1, Cmats = {}, {}, {}, {}, {}\n",
    "\n",
    "for key in models.keys():\n",
    "    \n",
    "    # Fit the classifier model\n",
    "    models[key].fit(X_train, y_train)\n",
    "    \n",
    "    # Prediction \n",
    "    predictions = models[key].predict(X_test)\n",
    "    \n",
    "    # Calculate Accuracy, Precision and Recall Metrics\n",
    "    accuracy[key] = accuracy_score(predictions, y_test)\n",
    "    precision[key] = precision_score(predictions, y_test, average='micro')\n",
    "    recall[key] = recall_score(predictions, y_test, average='micro')\n",
    "    f1[key] = f1_score(predictions, y_test, average='micro')\n",
    "    Cmats[key] = confusion_matrix(predictions, y_test)"
   ]
  },
  {
   "cell_type": "code",
   "execution_count": 12,
   "metadata": {},
   "outputs": [
    {
     "data": {
      "image/png": "[encoded data removed]",
      "text/plain": [
       "<Figure size 1440x720 with 12 Axes>"
      ]
     },
     "metadata": {
      "needs_background": "light"
     },
     "output_type": "display_data"
    }
   ],
   "source": [
    "i = 231\n",
    "fig = plt.figure(figsize=(20,10))\n",
    "for key in Cmats.keys():\n",
    "    cmat = Cmats[key]\n",
    "    ax = fig.add_subplot(i)\n",
    "    ax.title.set_text(key)\n",
    "    sn.heatmap(cmat, annot=True)\n",
    "    i = i + 1"
   ]
  },
  {
   "cell_type": "code",
   "execution_count": 13,
   "metadata": {},
   "outputs": [
    {
     "data": {
      "text/html": [
       "<div>\n",
       "<style scoped>\n",
       "    .dataframe tbody tr th:only-of-type {\n",
       "        vertical-align: middle;\n",
       "    }\n",
       "\n",
       "    .dataframe tbody tr th {\n",
       "        vertical-align: top;\n",
       "    }\n",
       "\n",
       "    .dataframe thead th {\n",
       "        text-align: right;\n",
       "    }\n",
       "</style>\n",
       "<table border=\"1\" class=\"dataframe\">\n",
       "  <thead>\n",
       "    <tr style=\"text-align: right;\">\n",
       "      <th></th>\n",
       "      <th>Accuracy</th>\n",
       "      <th>Precision</th>\n",
       "      <th>Recall</th>\n",
       "      <th>F1 Score</th>\n",
       "    </tr>\n",
       "  </thead>\n",
       "  <tbody>\n",
       "    <tr>\n",
       "      <th>Random Forest</th>\n",
       "      <td>0.920290</td>\n",
       "      <td>0.920290</td>\n",
       "      <td>0.920290</td>\n",
       "      <td>0.920290</td>\n",
       "    </tr>\n",
       "    <tr>\n",
       "      <th>Naive Bayes</th>\n",
       "      <td>0.869565</td>\n",
       "      <td>0.869565</td>\n",
       "      <td>0.869565</td>\n",
       "      <td>0.869565</td>\n",
       "    </tr>\n",
       "    <tr>\n",
       "      <th>Decision Tree</th>\n",
       "      <td>0.768116</td>\n",
       "      <td>0.768116</td>\n",
       "      <td>0.768116</td>\n",
       "      <td>0.768116</td>\n",
       "    </tr>\n",
       "    <tr>\n",
       "      <th>K Nearest Neighbor</th>\n",
       "      <td>0.717391</td>\n",
       "      <td>0.717391</td>\n",
       "      <td>0.717391</td>\n",
       "      <td>0.717391</td>\n",
       "    </tr>\n",
       "    <tr>\n",
       "      <th>Support Vector Machine</th>\n",
       "      <td>0.702899</td>\n",
       "      <td>0.702899</td>\n",
       "      <td>0.702899</td>\n",
       "      <td>0.702899</td>\n",
       "    </tr>\n",
       "    <tr>\n",
       "      <th>Logistic Regression</th>\n",
       "      <td>0.688406</td>\n",
       "      <td>0.688406</td>\n",
       "      <td>0.688406</td>\n",
       "      <td>0.688406</td>\n",
       "    </tr>\n",
       "  </tbody>\n",
       "</table>\n",
       "</div>"
      ],
      "text/plain": [
       "                        Accuracy  Precision    Recall  F1 Score\n",
       "Random Forest           0.920290   0.920290  0.920290  0.920290\n",
       "Naive Bayes             0.869565   0.869565  0.869565  0.869565\n",
       "Decision Tree           0.768116   0.768116  0.768116  0.768116\n",
       "K Nearest Neighbor      0.717391   0.717391  0.717391  0.717391\n",
       "Support Vector Machine  0.702899   0.702899  0.702899  0.702899\n",
       "Logistic Regression     0.688406   0.688406  0.688406  0.688406"
      ]
     },
     "execution_count": 13,
     "metadata": {},
     "output_type": "execute_result"
    }
   ],
   "source": [
    "df_model = pd.DataFrame(index=models.keys(), columns=['Accuracy', 'Precision', 'Recall', 'F1 Score'])\n",
    "df_model['Accuracy'] = accuracy.values()\n",
    "df_model['Precision'] = precision.values()\n",
    "df_model['Recall'] = recall.values()\n",
    "df_model['F1 Score'] = f1.values()\n",
    "\n",
    "df_model.sort_values(by='Accuracy',ascending=False)"
   ]
  },
  {
   "cell_type": "markdown",
   "metadata": {},
   "source": [
    "### DNN"
   ]
  },
  {
   "cell_type": "code",
   "execution_count": 14,
   "metadata": {},
   "outputs": [],
   "source": [
    "# Change labels to one hot\n",
    "y_train = tf.keras.utils.to_categorical(y_train)\n",
    "y_val = tf.keras.utils.to_categorical(y_val)\n",
    "y_test = tf.keras.utils.to_categorical(y_test)"
   ]
  },
  {
   "cell_type": "code",
   "execution_count": 15,
   "metadata": {},
   "outputs": [
    {
     "name": "stdout",
     "output_type": "stream",
     "text": [
      "Model: \"sequential\"\n",
      "_________________________________________________________________\n",
      "Layer (type)                 Output Shape              Param #   \n",
      "=================================================================\n",
      "dense (Dense)                (None, 64)                1600      \n",
      "_________________________________________________________________\n",
      "dense_1 (Dense)              (None, 64)                4160      \n",
      "_________________________________________________________________\n",
      "dense_2 (Dense)              (None, 32)                2080      \n",
      "_________________________________________________________________\n",
      "dense_3 (Dense)              (None, 2)                 66        \n",
      "=================================================================\n",
      "Total params: 7,906\n",
      "Trainable params: 7,906\n",
      "Non-trainable params: 0\n",
      "_________________________________________________________________\n"
     ]
    },
    {
     "name": "stderr",
     "output_type": "stream",
     "text": [
      "2022-05-04 00:48:09.274585: I tensorflow/compiler/jit/xla_cpu_device.cc:41] Not creating XLA devices, tf_xla_enable_xla_devices not set\n",
      "2022-05-04 00:48:09.274873: I tensorflow/core/platform/cpu_feature_guard.cc:142] This TensorFlow binary is optimized with oneAPI Deep Neural Network Library (oneDNN) to use the following CPU instructions in performance-critical operations:  AVX2 FMA\n",
      "To enable them in other operations, rebuild TensorFlow with the appropriate compiler flags.\n"
     ]
    }
   ],
   "source": [
    "model = tf.keras.models.Sequential([\n",
    "    tf.keras.layers.Dense(64, input_dim=X_train.shape[1], activation='relu'),\n",
    "    tf.keras.layers.Dense(64, activation='relu'),\n",
    "    tf.keras.layers.Dense(32, activation='relu'),\n",
    "    tf.keras.layers.Dense(2, activation='softmax'),\n",
    "])\n",
    "model.compile(loss='binary_crossentropy', optimizer='adam', metrics=['accuracy'])\n",
    "model.summary()"
   ]
  },
  {
   "cell_type": "code",
   "execution_count": 16,
   "metadata": {},
   "outputs": [
    {
     "name": "stdout",
     "output_type": "stream",
     "text": [
      "Epoch 1/200\n"
     ]
    },
    {
     "name": "stderr",
     "output_type": "stream",
     "text": [
      "2022-05-04 00:48:09.484828: I tensorflow/compiler/mlir/mlir_graph_optimization_pass.cc:116] None of the MLIR optimization passes are enabled (registered 2)\n"
     ]
    },
    {
     "name": "stdout",
     "output_type": "stream",
     "text": [
      "42/42 [==============================] - 1s 14ms/step - loss: 0.6851 - accuracy: 0.6392 - val_loss: 0.6379 - val_accuracy: 0.5641\n",
      "Epoch 2/200\n",
      "42/42 [==============================] - 0s 2ms/step - loss: 0.6467 - accuracy: 0.5693 - val_loss: 0.5900 - val_accuracy: 0.6667\n",
      "Epoch 3/200\n",
      "42/42 [==============================] - 0s 2ms/step - loss: 0.6337 - accuracy: 0.6359 - val_loss: 0.5694 - val_accuracy: 0.8120\n",
      "Epoch 4/200\n",
      "42/42 [==============================] - 0s 2ms/step - loss: 0.6046 - accuracy: 0.7243 - val_loss: 0.5464 - val_accuracy: 0.7778\n",
      "Epoch 5/200\n",
      "42/42 [==============================] - 0s 2ms/step - loss: 0.5969 - accuracy: 0.7009 - val_loss: 0.5180 - val_accuracy: 0.8120\n",
      "Epoch 6/200\n",
      "42/42 [==============================] - 0s 2ms/step - loss: 0.5910 - accuracy: 0.6940 - val_loss: 0.4921 - val_accuracy: 0.8291\n",
      "Epoch 7/200\n",
      "42/42 [==============================] - 0s 2ms/step - loss: 0.5542 - accuracy: 0.7456 - val_loss: 0.4559 - val_accuracy: 0.8376\n",
      "Epoch 8/200\n",
      "42/42 [==============================] - 0s 3ms/step - loss: 0.5518 - accuracy: 0.7218 - val_loss: 0.4446 - val_accuracy: 0.8462\n",
      "Epoch 9/200\n",
      "42/42 [==============================] - 0s 2ms/step - loss: 0.5074 - accuracy: 0.7551 - val_loss: 0.4301 - val_accuracy: 0.8291\n",
      "Epoch 10/200\n",
      "42/42 [==============================] - 0s 2ms/step - loss: 0.5390 - accuracy: 0.7327 - val_loss: 0.4094 - val_accuracy: 0.8803\n",
      "Epoch 11/200\n",
      "42/42 [==============================] - 0s 2ms/step - loss: 0.5087 - accuracy: 0.7669 - val_loss: 0.3889 - val_accuracy: 0.8803\n",
      "Epoch 12/200\n",
      "42/42 [==============================] - 0s 2ms/step - loss: 0.4826 - accuracy: 0.7873 - val_loss: 0.3753 - val_accuracy: 0.8803\n",
      "Epoch 13/200\n",
      "42/42 [==============================] - 0s 2ms/step - loss: 0.4638 - accuracy: 0.7955 - val_loss: 0.3659 - val_accuracy: 0.8974\n",
      "Epoch 14/200\n",
      "42/42 [==============================] - 0s 2ms/step - loss: 0.5129 - accuracy: 0.7458 - val_loss: 0.3657 - val_accuracy: 0.8974\n",
      "Epoch 15/200\n",
      "42/42 [==============================] - 0s 2ms/step - loss: 0.4266 - accuracy: 0.8221 - val_loss: 0.3480 - val_accuracy: 0.9060\n",
      "Epoch 16/200\n",
      "42/42 [==============================] - 0s 2ms/step - loss: 0.4503 - accuracy: 0.7983 - val_loss: 0.3468 - val_accuracy: 0.8974\n",
      "Epoch 17/200\n",
      "42/42 [==============================] - 0s 2ms/step - loss: 0.4445 - accuracy: 0.8171 - val_loss: 0.3422 - val_accuracy: 0.8889\n",
      "Epoch 18/200\n",
      "42/42 [==============================] - 0s 2ms/step - loss: 0.4636 - accuracy: 0.7997 - val_loss: 0.3241 - val_accuracy: 0.9145\n",
      "Epoch 19/200\n",
      "42/42 [==============================] - 0s 2ms/step - loss: 0.4562 - accuracy: 0.8038 - val_loss: 0.3679 - val_accuracy: 0.8547\n",
      "Epoch 20/200\n",
      "42/42 [==============================] - 0s 2ms/step - loss: 0.4196 - accuracy: 0.8378 - val_loss: 0.3104 - val_accuracy: 0.9145\n",
      "Epoch 21/200\n",
      "42/42 [==============================] - 0s 2ms/step - loss: 0.3973 - accuracy: 0.8337 - val_loss: 0.3097 - val_accuracy: 0.9060\n",
      "Epoch 22/200\n",
      "42/42 [==============================] - 0s 2ms/step - loss: 0.3910 - accuracy: 0.8383 - val_loss: 0.3188 - val_accuracy: 0.8974\n",
      "Epoch 23/200\n",
      "42/42 [==============================] - 0s 2ms/step - loss: 0.3764 - accuracy: 0.8411 - val_loss: 0.4038 - val_accuracy: 0.7778\n",
      "Epoch 24/200\n",
      "42/42 [==============================] - 0s 2ms/step - loss: 0.4196 - accuracy: 0.8185 - val_loss: 0.3016 - val_accuracy: 0.9060\n",
      "Epoch 25/200\n",
      "42/42 [==============================] - 0s 2ms/step - loss: 0.4135 - accuracy: 0.8152 - val_loss: 0.2992 - val_accuracy: 0.9060\n",
      "Epoch 26/200\n",
      "42/42 [==============================] - 0s 2ms/step - loss: 0.3820 - accuracy: 0.8305 - val_loss: 0.3084 - val_accuracy: 0.8803\n",
      "Epoch 27/200\n",
      "42/42 [==============================] - 0s 2ms/step - loss: 0.3463 - accuracy: 0.8705 - val_loss: 0.2983 - val_accuracy: 0.8803\n",
      "Epoch 28/200\n",
      "42/42 [==============================] - 0s 2ms/step - loss: 0.3582 - accuracy: 0.8522 - val_loss: 0.3052 - val_accuracy: 0.8889\n",
      "Epoch 29/200\n",
      "42/42 [==============================] - 0s 2ms/step - loss: 0.3782 - accuracy: 0.8505 - val_loss: 0.2921 - val_accuracy: 0.8889\n",
      "Epoch 30/200\n",
      "42/42 [==============================] - 0s 2ms/step - loss: 0.3638 - accuracy: 0.8330 - val_loss: 0.2837 - val_accuracy: 0.9060\n",
      "Epoch 31/200\n",
      "42/42 [==============================] - 0s 2ms/step - loss: 0.3737 - accuracy: 0.8375 - val_loss: 0.2860 - val_accuracy: 0.8889\n",
      "Epoch 32/200\n",
      "42/42 [==============================] - 0s 2ms/step - loss: 0.3426 - accuracy: 0.8427 - val_loss: 0.3007 - val_accuracy: 0.8632\n",
      "Epoch 33/200\n",
      "42/42 [==============================] - 0s 2ms/step - loss: 0.3449 - accuracy: 0.8703 - val_loss: 0.3101 - val_accuracy: 0.8718\n",
      "Epoch 34/200\n",
      "42/42 [==============================] - 0s 2ms/step - loss: 0.3338 - accuracy: 0.8508 - val_loss: 0.2998 - val_accuracy: 0.8974\n",
      "Epoch 35/200\n",
      "42/42 [==============================] - 0s 3ms/step - loss: 0.3740 - accuracy: 0.8202 - val_loss: 0.2970 - val_accuracy: 0.8889\n",
      "Epoch 36/200\n",
      "42/42 [==============================] - 0s 3ms/step - loss: 0.3979 - accuracy: 0.8281 - val_loss: 0.2876 - val_accuracy: 0.8974\n",
      "Epoch 37/200\n",
      "42/42 [==============================] - 0s 3ms/step - loss: 0.3143 - accuracy: 0.8910 - val_loss: 0.3139 - val_accuracy: 0.8462\n",
      "Epoch 38/200\n",
      "42/42 [==============================] - 0s 2ms/step - loss: 0.3612 - accuracy: 0.8475 - val_loss: 0.3102 - val_accuracy: 0.8547\n",
      "Epoch 39/200\n",
      "42/42 [==============================] - 0s 2ms/step - loss: 0.3442 - accuracy: 0.8385 - val_loss: 0.2909 - val_accuracy: 0.8974\n",
      "Epoch 40/200\n",
      "42/42 [==============================] - 0s 2ms/step - loss: 0.3626 - accuracy: 0.8498 - val_loss: 0.2951 - val_accuracy: 0.9060\n",
      "Epoch 41/200\n",
      "42/42 [==============================] - 0s 2ms/step - loss: 0.3234 - accuracy: 0.8591 - val_loss: 0.2951 - val_accuracy: 0.8889\n",
      "Epoch 42/200\n",
      "42/42 [==============================] - 0s 2ms/step - loss: 0.3542 - accuracy: 0.8490 - val_loss: 0.2971 - val_accuracy: 0.8889\n",
      "Epoch 43/200\n",
      "42/42 [==============================] - 0s 2ms/step - loss: 0.3485 - accuracy: 0.8408 - val_loss: 0.3003 - val_accuracy: 0.8718\n",
      "Epoch 44/200\n",
      "42/42 [==============================] - 0s 2ms/step - loss: 0.3399 - accuracy: 0.8458 - val_loss: 0.2997 - val_accuracy: 0.8974\n",
      "Epoch 45/200\n",
      "42/42 [==============================] - 0s 2ms/step - loss: 0.3611 - accuracy: 0.8587 - val_loss: 0.2966 - val_accuracy: 0.8974\n",
      "Epoch 46/200\n",
      "42/42 [==============================] - 0s 2ms/step - loss: 0.3491 - accuracy: 0.8638 - val_loss: 0.3021 - val_accuracy: 0.8974\n",
      "Epoch 47/200\n",
      "42/42 [==============================] - 0s 2ms/step - loss: 0.3394 - accuracy: 0.8601 - val_loss: 0.3008 - val_accuracy: 0.8974\n",
      "Epoch 48/200\n",
      "42/42 [==============================] - 0s 2ms/step - loss: 0.3475 - accuracy: 0.8623 - val_loss: 0.3019 - val_accuracy: 0.8803\n",
      "Epoch 49/200\n",
      "42/42 [==============================] - 0s 2ms/step - loss: 0.3204 - accuracy: 0.8707 - val_loss: 0.3326 - val_accuracy: 0.8462\n",
      "Epoch 50/200\n",
      "42/42 [==============================] - 0s 2ms/step - loss: 0.3704 - accuracy: 0.8535 - val_loss: 0.3087 - val_accuracy: 0.8718\n",
      "Epoch 51/200\n",
      "42/42 [==============================] - 0s 2ms/step - loss: 0.3626 - accuracy: 0.8394 - val_loss: 0.3125 - val_accuracy: 0.8718\n",
      "Epoch 52/200\n",
      "42/42 [==============================] - 0s 2ms/step - loss: 0.3444 - accuracy: 0.8550 - val_loss: 0.3681 - val_accuracy: 0.8120\n",
      "Epoch 53/200\n",
      "42/42 [==============================] - 0s 2ms/step - loss: 0.3607 - accuracy: 0.8501 - val_loss: 0.3036 - val_accuracy: 0.8803\n",
      "Epoch 54/200\n",
      "42/42 [==============================] - 0s 2ms/step - loss: 0.3174 - accuracy: 0.8874 - val_loss: 0.3059 - val_accuracy: 0.8974\n",
      "Epoch 55/200\n",
      "42/42 [==============================] - 0s 2ms/step - loss: 0.3833 - accuracy: 0.8209 - val_loss: 0.3113 - val_accuracy: 0.8889\n",
      "Epoch 56/200\n",
      "42/42 [==============================] - 0s 2ms/step - loss: 0.3666 - accuracy: 0.8521 - val_loss: 0.3110 - val_accuracy: 0.8974\n",
      "Epoch 57/200\n",
      "42/42 [==============================] - 0s 2ms/step - loss: 0.3342 - accuracy: 0.8467 - val_loss: 0.3484 - val_accuracy: 0.8291\n",
      "Epoch 58/200\n",
      "42/42 [==============================] - 0s 2ms/step - loss: 0.3466 - accuracy: 0.8644 - val_loss: 0.3048 - val_accuracy: 0.8889\n",
      "Epoch 59/200\n",
      "42/42 [==============================] - 0s 2ms/step - loss: 0.3608 - accuracy: 0.8294 - val_loss: 0.3051 - val_accuracy: 0.8889\n",
      "Epoch 60/200\n",
      "42/42 [==============================] - 0s 2ms/step - loss: 0.3558 - accuracy: 0.8386 - val_loss: 0.3048 - val_accuracy: 0.8974\n",
      "Epoch 61/200\n",
      "42/42 [==============================] - 0s 2ms/step - loss: 0.3065 - accuracy: 0.8838 - val_loss: 0.3032 - val_accuracy: 0.8889\n",
      "Epoch 62/200\n",
      "42/42 [==============================] - 0s 2ms/step - loss: 0.3561 - accuracy: 0.8585 - val_loss: 0.3075 - val_accuracy: 0.8889\n",
      "Epoch 63/200\n",
      "42/42 [==============================] - 0s 2ms/step - loss: 0.3304 - accuracy: 0.8724 - val_loss: 0.3115 - val_accuracy: 0.8718\n",
      "Epoch 64/200\n",
      "42/42 [==============================] - 0s 2ms/step - loss: 0.3193 - accuracy: 0.8611 - val_loss: 0.3028 - val_accuracy: 0.8889\n",
      "Epoch 65/200\n",
      "42/42 [==============================] - 0s 2ms/step - loss: 0.3269 - accuracy: 0.8752 - val_loss: 0.3177 - val_accuracy: 0.8547\n",
      "Epoch 66/200\n",
      "42/42 [==============================] - 0s 2ms/step - loss: 0.3040 - accuracy: 0.8608 - val_loss: 0.3110 - val_accuracy: 0.8889\n",
      "Epoch 67/200\n",
      "42/42 [==============================] - 0s 2ms/step - loss: 0.3573 - accuracy: 0.8462 - val_loss: 0.3269 - val_accuracy: 0.8632\n",
      "Epoch 68/200\n",
      "42/42 [==============================] - 0s 2ms/step - loss: 0.3231 - accuracy: 0.8868 - val_loss: 0.3159 - val_accuracy: 0.8803\n",
      "Epoch 69/200\n",
      "42/42 [==============================] - 0s 2ms/step - loss: 0.3202 - accuracy: 0.8810 - val_loss: 0.3229 - val_accuracy: 0.8462\n",
      "Epoch 70/200\n",
      "42/42 [==============================] - 0s 2ms/step - loss: 0.3325 - accuracy: 0.8615 - val_loss: 0.3113 - val_accuracy: 0.8889\n",
      "Epoch 71/200\n",
      "42/42 [==============================] - 0s 3ms/step - loss: 0.3362 - accuracy: 0.8644 - val_loss: 0.3108 - val_accuracy: 0.8803\n",
      "Epoch 72/200\n",
      "42/42 [==============================] - 0s 2ms/step - loss: 0.3521 - accuracy: 0.8303 - val_loss: 0.3121 - val_accuracy: 0.8718\n",
      "Epoch 73/200\n",
      "42/42 [==============================] - 0s 2ms/step - loss: 0.3238 - accuracy: 0.8534 - val_loss: 0.3576 - val_accuracy: 0.8718\n",
      "Epoch 74/200\n",
      "42/42 [==============================] - 0s 2ms/step - loss: 0.3850 - accuracy: 0.8334 - val_loss: 0.3159 - val_accuracy: 0.8547\n",
      "Epoch 75/200\n",
      "42/42 [==============================] - 0s 2ms/step - loss: 0.3513 - accuracy: 0.8566 - val_loss: 0.3235 - val_accuracy: 0.8462\n",
      "Epoch 76/200\n",
      "42/42 [==============================] - 0s 2ms/step - loss: 0.3578 - accuracy: 0.8463 - val_loss: 0.3067 - val_accuracy: 0.8889\n",
      "Epoch 77/200\n",
      "42/42 [==============================] - 0s 2ms/step - loss: 0.3651 - accuracy: 0.8367 - val_loss: 0.3191 - val_accuracy: 0.8547\n",
      "Epoch 78/200\n",
      "42/42 [==============================] - 0s 2ms/step - loss: 0.3362 - accuracy: 0.8600 - val_loss: 0.3111 - val_accuracy: 0.8718\n",
      "Epoch 79/200\n",
      "42/42 [==============================] - 0s 2ms/step - loss: 0.3442 - accuracy: 0.8562 - val_loss: 0.3104 - val_accuracy: 0.8803\n",
      "Epoch 80/200\n",
      "42/42 [==============================] - 0s 2ms/step - loss: 0.2808 - accuracy: 0.8827 - val_loss: 0.3141 - val_accuracy: 0.8718\n",
      "Epoch 81/200\n",
      "42/42 [==============================] - 0s 2ms/step - loss: 0.3359 - accuracy: 0.8620 - val_loss: 0.3408 - val_accuracy: 0.8718\n",
      "Epoch 82/200\n",
      "42/42 [==============================] - 0s 2ms/step - loss: 0.3363 - accuracy: 0.8762 - val_loss: 0.3135 - val_accuracy: 0.9060\n",
      "Epoch 83/200\n",
      "42/42 [==============================] - 0s 2ms/step - loss: 0.3323 - accuracy: 0.8589 - val_loss: 0.3247 - val_accuracy: 0.8547\n",
      "Epoch 84/200\n",
      "42/42 [==============================] - 0s 2ms/step - loss: 0.3154 - accuracy: 0.8708 - val_loss: 0.4060 - val_accuracy: 0.8120\n",
      "Epoch 85/200\n",
      "42/42 [==============================] - 0s 2ms/step - loss: 0.3821 - accuracy: 0.8481 - val_loss: 0.3172 - val_accuracy: 0.9060\n",
      "Epoch 86/200\n",
      "42/42 [==============================] - 0s 2ms/step - loss: 0.3534 - accuracy: 0.8628 - val_loss: 0.3365 - val_accuracy: 0.8718\n",
      "Epoch 87/200\n",
      "42/42 [==============================] - 0s 2ms/step - loss: 0.3379 - accuracy: 0.8388 - val_loss: 0.3126 - val_accuracy: 0.8803\n",
      "Epoch 88/200\n",
      "42/42 [==============================] - 0s 2ms/step - loss: 0.3211 - accuracy: 0.8714 - val_loss: 0.3153 - val_accuracy: 0.8718\n",
      "Epoch 89/200\n",
      "42/42 [==============================] - 0s 2ms/step - loss: 0.3040 - accuracy: 0.8688 - val_loss: 0.3147 - val_accuracy: 0.8974\n",
      "Epoch 90/200\n",
      "42/42 [==============================] - 0s 2ms/step - loss: 0.3144 - accuracy: 0.8672 - val_loss: 0.3139 - val_accuracy: 0.8718\n",
      "Epoch 91/200\n",
      "42/42 [==============================] - 0s 2ms/step - loss: 0.3523 - accuracy: 0.8499 - val_loss: 0.3332 - val_accuracy: 0.8547\n",
      "Epoch 92/200\n",
      "42/42 [==============================] - 0s 2ms/step - loss: 0.3633 - accuracy: 0.8525 - val_loss: 0.3135 - val_accuracy: 0.8974\n",
      "Epoch 93/200\n",
      "42/42 [==============================] - 0s 2ms/step - loss: 0.3570 - accuracy: 0.8317 - val_loss: 0.3280 - val_accuracy: 0.8462\n",
      "Epoch 94/200\n",
      "42/42 [==============================] - 0s 2ms/step - loss: 0.3185 - accuracy: 0.8550 - val_loss: 0.3134 - val_accuracy: 0.8803\n",
      "Epoch 95/200\n",
      "42/42 [==============================] - 0s 2ms/step - loss: 0.3077 - accuracy: 0.8664 - val_loss: 0.3194 - val_accuracy: 0.8803\n",
      "Epoch 96/200\n",
      "42/42 [==============================] - 0s 2ms/step - loss: 0.3499 - accuracy: 0.8510 - val_loss: 0.3327 - val_accuracy: 0.8803\n",
      "Epoch 97/200\n",
      "42/42 [==============================] - 0s 2ms/step - loss: 0.3226 - accuracy: 0.8515 - val_loss: 0.3188 - val_accuracy: 0.8632\n",
      "Epoch 98/200\n",
      "42/42 [==============================] - 0s 2ms/step - loss: 0.3498 - accuracy: 0.8565 - val_loss: 0.3179 - val_accuracy: 0.8632\n",
      "Epoch 99/200\n",
      "42/42 [==============================] - 0s 2ms/step - loss: 0.3459 - accuracy: 0.8567 - val_loss: 0.3178 - val_accuracy: 0.8547\n",
      "Epoch 100/200\n",
      "42/42 [==============================] - 0s 2ms/step - loss: 0.3027 - accuracy: 0.8755 - val_loss: 0.3271 - val_accuracy: 0.8803\n",
      "Epoch 101/200\n",
      "42/42 [==============================] - 0s 2ms/step - loss: 0.3544 - accuracy: 0.8546 - val_loss: 0.3283 - val_accuracy: 0.8803\n",
      "Epoch 102/200\n",
      "42/42 [==============================] - 0s 2ms/step - loss: 0.2992 - accuracy: 0.8768 - val_loss: 0.3225 - val_accuracy: 0.8718\n",
      "Epoch 103/200\n",
      "42/42 [==============================] - 0s 2ms/step - loss: 0.3218 - accuracy: 0.8591 - val_loss: 0.3246 - val_accuracy: 0.8632\n",
      "Epoch 104/200\n",
      "42/42 [==============================] - 0s 2ms/step - loss: 0.3791 - accuracy: 0.8466 - val_loss: 0.3238 - val_accuracy: 0.8718\n",
      "Epoch 105/200\n",
      "42/42 [==============================] - 0s 2ms/step - loss: 0.3393 - accuracy: 0.8440 - val_loss: 0.3199 - val_accuracy: 0.8889\n",
      "Epoch 106/200\n",
      "42/42 [==============================] - 0s 2ms/step - loss: 0.3000 - accuracy: 0.8765 - val_loss: 0.3361 - val_accuracy: 0.8632\n",
      "Epoch 107/200\n",
      "42/42 [==============================] - 0s 2ms/step - loss: 0.2983 - accuracy: 0.8827 - val_loss: 0.3195 - val_accuracy: 0.8974\n",
      "Epoch 108/200\n",
      "42/42 [==============================] - 0s 2ms/step - loss: 0.3266 - accuracy: 0.8617 - val_loss: 0.3176 - val_accuracy: 0.8718\n",
      "Epoch 109/200\n",
      "42/42 [==============================] - 0s 2ms/step - loss: 0.3439 - accuracy: 0.8544 - val_loss: 0.3505 - val_accuracy: 0.8803\n",
      "Epoch 110/200\n",
      "42/42 [==============================] - 0s 2ms/step - loss: 0.3263 - accuracy: 0.8573 - val_loss: 0.3788 - val_accuracy: 0.8718\n",
      "Epoch 111/200\n",
      "42/42 [==============================] - 0s 2ms/step - loss: 0.3284 - accuracy: 0.8486 - val_loss: 0.3234 - val_accuracy: 0.8547\n",
      "Epoch 112/200\n",
      "42/42 [==============================] - 0s 2ms/step - loss: 0.3090 - accuracy: 0.8749 - val_loss: 0.3179 - val_accuracy: 0.8974\n",
      "Epoch 113/200\n",
      "42/42 [==============================] - 0s 2ms/step - loss: 0.2974 - accuracy: 0.8716 - val_loss: 0.3366 - val_accuracy: 0.8632\n",
      "Epoch 114/200\n",
      "42/42 [==============================] - 0s 2ms/step - loss: 0.3407 - accuracy: 0.8634 - val_loss: 0.3275 - val_accuracy: 0.8718\n",
      "Epoch 115/200\n",
      "42/42 [==============================] - 0s 2ms/step - loss: 0.3168 - accuracy: 0.8662 - val_loss: 0.3188 - val_accuracy: 0.8889\n",
      "Epoch 116/200\n",
      "42/42 [==============================] - 0s 2ms/step - loss: 0.3256 - accuracy: 0.8631 - val_loss: 0.3221 - val_accuracy: 0.8718\n",
      "Epoch 117/200\n",
      "42/42 [==============================] - 0s 2ms/step - loss: 0.3245 - accuracy: 0.8563 - val_loss: 0.3272 - val_accuracy: 0.8462\n",
      "Epoch 118/200\n",
      "42/42 [==============================] - 0s 2ms/step - loss: 0.2945 - accuracy: 0.8675 - val_loss: 0.3256 - val_accuracy: 0.8547\n",
      "Epoch 119/200\n",
      "42/42 [==============================] - 0s 2ms/step - loss: 0.2950 - accuracy: 0.8773 - val_loss: 0.3408 - val_accuracy: 0.8547\n",
      "Epoch 120/200\n",
      "42/42 [==============================] - 0s 2ms/step - loss: 0.3010 - accuracy: 0.8842 - val_loss: 0.3343 - val_accuracy: 0.8547\n",
      "Epoch 121/200\n",
      "42/42 [==============================] - 0s 2ms/step - loss: 0.3644 - accuracy: 0.8414 - val_loss: 0.3325 - val_accuracy: 0.8803\n",
      "Epoch 122/200\n",
      "42/42 [==============================] - 0s 2ms/step - loss: 0.3291 - accuracy: 0.8465 - val_loss: 0.3270 - val_accuracy: 0.8803\n",
      "Epoch 123/200\n",
      "42/42 [==============================] - 0s 2ms/step - loss: 0.3708 - accuracy: 0.8472 - val_loss: 0.3482 - val_accuracy: 0.8718\n",
      "Epoch 124/200\n",
      "42/42 [==============================] - 0s 2ms/step - loss: 0.2999 - accuracy: 0.8711 - val_loss: 0.3249 - val_accuracy: 0.8547\n",
      "Epoch 125/200\n",
      "42/42 [==============================] - 0s 2ms/step - loss: 0.3327 - accuracy: 0.8545 - val_loss: 0.3792 - val_accuracy: 0.8034\n",
      "Epoch 126/200\n",
      "42/42 [==============================] - 0s 2ms/step - loss: 0.3488 - accuracy: 0.8397 - val_loss: 0.3217 - val_accuracy: 0.8974\n",
      "Epoch 127/200\n",
      "42/42 [==============================] - 0s 2ms/step - loss: 0.3445 - accuracy: 0.8512 - val_loss: 0.3316 - val_accuracy: 0.8547\n",
      "Epoch 128/200\n",
      "42/42 [==============================] - 0s 2ms/step - loss: 0.3291 - accuracy: 0.8442 - val_loss: 0.3338 - val_accuracy: 0.8803\n",
      "Epoch 129/200\n",
      "42/42 [==============================] - 0s 2ms/step - loss: 0.3114 - accuracy: 0.8752 - val_loss: 0.3220 - val_accuracy: 0.8803\n",
      "Epoch 130/200\n",
      "42/42 [==============================] - 0s 2ms/step - loss: 0.3191 - accuracy: 0.8746 - val_loss: 0.3455 - val_accuracy: 0.8462\n",
      "Epoch 131/200\n",
      "42/42 [==============================] - 0s 2ms/step - loss: 0.3244 - accuracy: 0.8613 - val_loss: 0.3234 - val_accuracy: 0.8889\n",
      "Epoch 132/200\n",
      "42/42 [==============================] - 0s 2ms/step - loss: 0.3583 - accuracy: 0.8508 - val_loss: 0.3283 - val_accuracy: 0.8889\n",
      "Epoch 133/200\n",
      "42/42 [==============================] - 0s 2ms/step - loss: 0.3275 - accuracy: 0.8811 - val_loss: 0.3276 - val_accuracy: 0.8547\n",
      "Epoch 134/200\n",
      "42/42 [==============================] - 0s 2ms/step - loss: 0.3163 - accuracy: 0.8711 - val_loss: 0.3643 - val_accuracy: 0.8291\n",
      "Epoch 135/200\n",
      "42/42 [==============================] - 0s 2ms/step - loss: 0.3482 - accuracy: 0.8552 - val_loss: 0.3212 - val_accuracy: 0.8803\n",
      "Epoch 136/200\n",
      "42/42 [==============================] - 0s 2ms/step - loss: 0.2999 - accuracy: 0.8808 - val_loss: 0.3261 - val_accuracy: 0.8889\n",
      "Epoch 137/200\n",
      "42/42 [==============================] - 0s 2ms/step - loss: 0.3064 - accuracy: 0.8666 - val_loss: 0.3272 - val_accuracy: 0.8889\n",
      "Epoch 138/200\n",
      "42/42 [==============================] - 0s 2ms/step - loss: 0.3381 - accuracy: 0.8560 - val_loss: 0.3284 - val_accuracy: 0.8632\n",
      "Epoch 139/200\n",
      "42/42 [==============================] - 0s 2ms/step - loss: 0.3576 - accuracy: 0.8318 - val_loss: 0.3446 - val_accuracy: 0.8718\n",
      "Epoch 140/200\n",
      "42/42 [==============================] - 0s 3ms/step - loss: 0.3228 - accuracy: 0.8698 - val_loss: 0.3324 - val_accuracy: 0.8632\n",
      "Epoch 141/200\n",
      "42/42 [==============================] - 0s 2ms/step - loss: 0.3286 - accuracy: 0.8592 - val_loss: 0.3279 - val_accuracy: 0.8632\n",
      "Epoch 142/200\n",
      "42/42 [==============================] - 0s 2ms/step - loss: 0.3053 - accuracy: 0.8718 - val_loss: 0.3229 - val_accuracy: 0.8803\n",
      "Epoch 143/200\n",
      "42/42 [==============================] - 0s 2ms/step - loss: 0.3222 - accuracy: 0.8579 - val_loss: 0.3359 - val_accuracy: 0.8462\n",
      "Epoch 144/200\n",
      "42/42 [==============================] - 0s 4ms/step - loss: 0.3041 - accuracy: 0.8826 - val_loss: 0.3268 - val_accuracy: 0.8718\n",
      "Epoch 145/200\n",
      "42/42 [==============================] - 0s 2ms/step - loss: 0.3288 - accuracy: 0.8455 - val_loss: 0.3329 - val_accuracy: 0.8547\n",
      "Epoch 146/200\n",
      "42/42 [==============================] - 0s 2ms/step - loss: 0.3282 - accuracy: 0.8521 - val_loss: 0.3192 - val_accuracy: 0.8803\n",
      "Epoch 147/200\n",
      "42/42 [==============================] - 0s 2ms/step - loss: 0.3456 - accuracy: 0.8494 - val_loss: 0.3292 - val_accuracy: 0.8803\n",
      "Epoch 148/200\n",
      "42/42 [==============================] - 0s 2ms/step - loss: 0.3904 - accuracy: 0.8193 - val_loss: 0.3290 - val_accuracy: 0.8803\n",
      "Epoch 149/200\n",
      "42/42 [==============================] - 0s 2ms/step - loss: 0.2879 - accuracy: 0.8843 - val_loss: 0.3266 - val_accuracy: 0.8632\n",
      "Epoch 150/200\n",
      "42/42 [==============================] - 0s 2ms/step - loss: 0.3074 - accuracy: 0.8636 - val_loss: 0.3259 - val_accuracy: 0.8889\n",
      "Epoch 151/200\n",
      "42/42 [==============================] - 0s 2ms/step - loss: 0.3036 - accuracy: 0.8786 - val_loss: 0.3481 - val_accuracy: 0.8718\n",
      "Epoch 152/200\n",
      "42/42 [==============================] - 0s 2ms/step - loss: 0.3360 - accuracy: 0.8401 - val_loss: 0.3450 - val_accuracy: 0.8462\n",
      "Epoch 153/200\n",
      "42/42 [==============================] - 0s 2ms/step - loss: 0.3143 - accuracy: 0.8660 - val_loss: 0.3363 - val_accuracy: 0.8547\n",
      "Epoch 154/200\n",
      "42/42 [==============================] - 0s 2ms/step - loss: 0.3293 - accuracy: 0.8577 - val_loss: 0.3279 - val_accuracy: 0.8889\n",
      "Epoch 155/200\n",
      "42/42 [==============================] - 0s 2ms/step - loss: 0.3256 - accuracy: 0.8713 - val_loss: 0.3392 - val_accuracy: 0.8547\n",
      "Epoch 156/200\n",
      "42/42 [==============================] - 0s 2ms/step - loss: 0.3144 - accuracy: 0.8481 - val_loss: 0.3334 - val_accuracy: 0.8462\n",
      "Epoch 157/200\n",
      "42/42 [==============================] - 0s 2ms/step - loss: 0.3125 - accuracy: 0.8790 - val_loss: 0.3333 - val_accuracy: 0.8547\n",
      "Epoch 158/200\n",
      "42/42 [==============================] - 0s 3ms/step - loss: 0.3219 - accuracy: 0.8734 - val_loss: 0.3626 - val_accuracy: 0.8205\n",
      "Epoch 159/200\n",
      "42/42 [==============================] - 0s 2ms/step - loss: 0.3225 - accuracy: 0.8715 - val_loss: 0.3294 - val_accuracy: 0.8803\n",
      "Epoch 160/200\n",
      "42/42 [==============================] - 0s 2ms/step - loss: 0.2952 - accuracy: 0.8598 - val_loss: 0.3259 - val_accuracy: 0.8718\n",
      "Epoch 161/200\n",
      "42/42 [==============================] - 0s 3ms/step - loss: 0.2840 - accuracy: 0.8794 - val_loss: 0.3353 - val_accuracy: 0.8632\n",
      "Epoch 162/200\n",
      "42/42 [==============================] - 0s 3ms/step - loss: 0.2916 - accuracy: 0.8773 - val_loss: 0.3516 - val_accuracy: 0.8376\n",
      "Epoch 163/200\n",
      "42/42 [==============================] - 0s 2ms/step - loss: 0.3410 - accuracy: 0.8315 - val_loss: 0.3316 - val_accuracy: 0.8632\n",
      "Epoch 164/200\n",
      "42/42 [==============================] - 0s 2ms/step - loss: 0.3017 - accuracy: 0.8737 - val_loss: 0.3292 - val_accuracy: 0.8632\n",
      "Epoch 165/200\n",
      "42/42 [==============================] - 0s 2ms/step - loss: 0.2994 - accuracy: 0.8682 - val_loss: 0.3359 - val_accuracy: 0.8718\n",
      "Epoch 166/200\n",
      "42/42 [==============================] - 0s 2ms/step - loss: 0.2969 - accuracy: 0.8864 - val_loss: 0.3439 - val_accuracy: 0.8547\n",
      "Epoch 167/200\n",
      "42/42 [==============================] - 0s 2ms/step - loss: 0.3199 - accuracy: 0.8533 - val_loss: 0.3294 - val_accuracy: 0.8889\n",
      "Epoch 168/200\n",
      "42/42 [==============================] - 0s 2ms/step - loss: 0.3063 - accuracy: 0.8764 - val_loss: 0.3486 - val_accuracy: 0.8376\n",
      "Epoch 169/200\n",
      "42/42 [==============================] - 0s 2ms/step - loss: 0.3169 - accuracy: 0.8724 - val_loss: 0.3830 - val_accuracy: 0.8718\n",
      "Epoch 170/200\n",
      "42/42 [==============================] - 0s 2ms/step - loss: 0.2940 - accuracy: 0.8702 - val_loss: 0.3257 - val_accuracy: 0.8803\n",
      "Epoch 171/200\n",
      "42/42 [==============================] - 0s 2ms/step - loss: 0.2944 - accuracy: 0.8793 - val_loss: 0.3363 - val_accuracy: 0.8632\n",
      "Epoch 172/200\n",
      "42/42 [==============================] - 0s 2ms/step - loss: 0.2814 - accuracy: 0.8717 - val_loss: 0.3363 - val_accuracy: 0.8803\n",
      "Epoch 173/200\n",
      "42/42 [==============================] - 0s 2ms/step - loss: 0.2968 - accuracy: 0.8589 - val_loss: 0.3435 - val_accuracy: 0.8718\n",
      "Epoch 174/200\n",
      "42/42 [==============================] - 0s 2ms/step - loss: 0.3370 - accuracy: 0.8614 - val_loss: 0.3403 - val_accuracy: 0.8889\n",
      "Epoch 175/200\n",
      "42/42 [==============================] - 0s 2ms/step - loss: 0.3191 - accuracy: 0.8638 - val_loss: 0.3666 - val_accuracy: 0.8291\n",
      "Epoch 176/200\n",
      "42/42 [==============================] - 0s 2ms/step - loss: 0.3668 - accuracy: 0.8553 - val_loss: 0.3444 - val_accuracy: 0.8632\n",
      "Epoch 177/200\n",
      "42/42 [==============================] - 0s 2ms/step - loss: 0.3055 - accuracy: 0.8663 - val_loss: 0.3329 - val_accuracy: 0.8889\n",
      "Epoch 178/200\n",
      "42/42 [==============================] - 0s 2ms/step - loss: 0.2740 - accuracy: 0.8927 - val_loss: 0.3307 - val_accuracy: 0.8803\n",
      "Epoch 179/200\n",
      "42/42 [==============================] - 0s 2ms/step - loss: 0.3330 - accuracy: 0.8546 - val_loss: 0.3500 - val_accuracy: 0.8462\n",
      "Epoch 180/200\n",
      "42/42 [==============================] - 0s 2ms/step - loss: 0.3083 - accuracy: 0.8586 - val_loss: 0.3447 - val_accuracy: 0.8632\n",
      "Epoch 181/200\n",
      "42/42 [==============================] - 0s 3ms/step - loss: 0.3237 - accuracy: 0.8563 - val_loss: 0.3322 - val_accuracy: 0.8718\n",
      "Epoch 182/200\n",
      "42/42 [==============================] - 0s 3ms/step - loss: 0.3127 - accuracy: 0.8648 - val_loss: 0.3406 - val_accuracy: 0.8718\n",
      "Epoch 183/200\n",
      "42/42 [==============================] - 0s 3ms/step - loss: 0.2481 - accuracy: 0.9079 - val_loss: 0.3337 - val_accuracy: 0.8803\n",
      "Epoch 184/200\n",
      "42/42 [==============================] - 0s 3ms/step - loss: 0.3027 - accuracy: 0.8835 - val_loss: 0.3285 - val_accuracy: 0.8803\n",
      "Epoch 185/200\n",
      "42/42 [==============================] - 0s 3ms/step - loss: 0.2971 - accuracy: 0.8817 - val_loss: 0.3321 - val_accuracy: 0.8889\n",
      "Epoch 186/200\n",
      "42/42 [==============================] - 0s 5ms/step - loss: 0.2689 - accuracy: 0.8882 - val_loss: 0.3302 - val_accuracy: 0.8718\n",
      "Epoch 187/200\n",
      "42/42 [==============================] - 0s 2ms/step - loss: 0.3178 - accuracy: 0.8719 - val_loss: 0.3403 - val_accuracy: 0.8718\n",
      "Epoch 188/200\n",
      "42/42 [==============================] - 0s 2ms/step - loss: 0.2699 - accuracy: 0.8860 - val_loss: 0.3441 - val_accuracy: 0.8547\n",
      "Epoch 189/200\n",
      "42/42 [==============================] - 0s 2ms/step - loss: 0.3147 - accuracy: 0.8691 - val_loss: 0.3450 - val_accuracy: 0.8803\n",
      "Epoch 190/200\n",
      "42/42 [==============================] - 0s 2ms/step - loss: 0.2818 - accuracy: 0.8666 - val_loss: 0.3318 - val_accuracy: 0.8632\n",
      "Epoch 191/200\n",
      "42/42 [==============================] - 0s 2ms/step - loss: 0.2966 - accuracy: 0.8729 - val_loss: 0.3402 - val_accuracy: 0.8632\n",
      "Epoch 192/200\n",
      "42/42 [==============================] - 0s 3ms/step - loss: 0.2873 - accuracy: 0.8896 - val_loss: 0.3354 - val_accuracy: 0.8803\n",
      "Epoch 193/200\n",
      "42/42 [==============================] - 0s 2ms/step - loss: 0.2731 - accuracy: 0.8852 - val_loss: 0.3380 - val_accuracy: 0.8803\n",
      "Epoch 194/200\n",
      "42/42 [==============================] - 0s 2ms/step - loss: 0.3019 - accuracy: 0.8602 - val_loss: 0.3388 - val_accuracy: 0.8632\n",
      "Epoch 195/200\n",
      "42/42 [==============================] - 0s 2ms/step - loss: 0.3171 - accuracy: 0.8641 - val_loss: 0.3793 - val_accuracy: 0.8376\n",
      "Epoch 196/200\n",
      "42/42 [==============================] - 0s 2ms/step - loss: 0.2747 - accuracy: 0.8871 - val_loss: 0.3406 - val_accuracy: 0.8889\n",
      "Epoch 197/200\n",
      "42/42 [==============================] - 0s 2ms/step - loss: 0.2886 - accuracy: 0.8594 - val_loss: 0.3622 - val_accuracy: 0.8803\n",
      "Epoch 198/200\n",
      "42/42 [==============================] - 0s 2ms/step - loss: 0.3327 - accuracy: 0.8586 - val_loss: 0.3402 - val_accuracy: 0.8632\n",
      "Epoch 199/200\n",
      "42/42 [==============================] - 0s 3ms/step - loss: 0.3282 - accuracy: 0.8549 - val_loss: 0.3390 - val_accuracy: 0.8718\n",
      "Epoch 200/200\n",
      "42/42 [==============================] - 0s 4ms/step - loss: 0.2898 - accuracy: 0.8798 - val_loss: 0.3381 - val_accuracy: 0.8718\n"
     ]
    }
   ],
   "source": [
    "callback = tf.keras.callbacks.EarlyStopping(monitor='loss', patience=10)\n",
    "history = model.fit(X_train, y_train, validation_data=(X_val, y_val), epochs=200, batch_size=16)"
   ]
  },
  {
   "cell_type": "code",
   "execution_count": 17,
   "metadata": {},
   "outputs": [
    {
     "data": {
      "text/plain": [
       "<AxesSubplot:>"
      ]
     },
     "execution_count": 17,
     "metadata": {},
     "output_type": "execute_result"
    },
    {
     "data": {
      "image/png": "[encoded data removed]",
      "text/plain": [
       "<Figure size 432x288 with 2 Axes>"
      ]
     },
     "metadata": {
      "needs_background": "light"
     },
     "output_type": "display_data"
    }
   ],
   "source": [
    "y_pred = model.predict(X_test)\n",
    "y_pred = np.argmax(y_pred, axis = -1)\n",
    "y_pred = tf.keras.utils.to_categorical(y_pred)\n",
    "Cmat = confusion_matrix(y_test.argmax(axis=-1),y_pred.argmax(axis=-1))\n",
    "sn.heatmap(Cmat, annot=True)"
   ]
  },
  {
   "cell_type": "code",
   "execution_count": 18,
   "metadata": {},
   "outputs": [
    {
     "name": "stdout",
     "output_type": "stream",
     "text": [
      "Accuracy: 91.30%\n"
     ]
    }
   ],
   "source": [
    "print('Accuracy: %2.2f' % ((Cmat[0,0]+Cmat[1,1])/np.sum(Cmat)*100) + '%')"
   ]
  },
  {
   "cell_type": "code",
   "execution_count": 19,
   "metadata": {},
   "outputs": [
    {
     "data": {
      "text/plain": [
       "<matplotlib.legend.Legend at 0x132a9f490>"
      ]
     },
     "execution_count": 19,
     "metadata": {},
     "output_type": "execute_result"
    },
    {
     "data": {
      "image/png": "[encoded data removed]",
      "text/plain": [
       "<Figure size 432x288 with 1 Axes>"
      ]
     },
     "metadata": {
      "needs_background": "light"
     },
     "output_type": "display_data"
    }
   ],
   "source": [
    "plt.plot(history.epoch, history.history['accuracy'])\n",
    "plt.plot(history.epoch, history.history['val_accuracy'])\n",
    "plt.xlabel('Epochs')\n",
    "plt.ylabel('Accuracy')\n",
    "plt.title('Accuracy of the model at each epoch')\n",
    "plt.legend(['Training Accuracy','Validation Accuracy'])"
   ]
  }
 ],
 "metadata": {
  "interpreter": {
   "hash": "1ee38ef4a5a9feb55287fd749643f13d043cb0a7addaab2a9c224cbe137c0062"
  },
  "kernelspec": {
   "display_name": "Python 3.8.5 64-bit",
   "language": "python",
   "name": "python3"
  },
  "language_info": {
   "codemirror_mode": {
    "name": "ipython",
    "version": 3
   },
   "file_extension": ".py",
   "mimetype": "text/x-python",
   "name": "python",
   "nbconvert_exporter": "python",
   "pygments_lexer": "ipython3",
   "version": "3.8.13"
  },
  "orig_nbformat": 4
 },
 "nbformat": 4,
 "nbformat_minor": 2
}
