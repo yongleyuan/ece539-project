{
 "cells": [
  {
   "cell_type": "markdown",
   "metadata": {},
   "source": [
    "# ECE 539 Project: Analysis and Prediction of Heart Disease (Main Code)"
   ]
  },
  {
   "cell_type": "code",
   "execution_count": 246,
   "metadata": {},
   "outputs": [],
   "source": [
    "# IMPORT LIBRARIES AND SET WORKING DIRECTORY\n",
    "\n",
    "DIR = './'\n",
    "\n",
    "'''\n",
    "# To use Google Colab, uncomment this section and set DIR (above) to appropriate directory path\n",
    "from google.colab import drive\n",
    "drive.mount('/content/drive')\n",
    "DIR = '/content/drive/...'\n",
    "'''\n",
    "\n",
    "import os\n",
    "\n",
    "import numpy as np\n",
    "import pandas as pd\n",
    "\n",
    "from sklearn.preprocessing import OneHotEncoder\n",
    "from sklearn.preprocessing import normalize\n",
    "from sklearn.model_selection import train_test_split\n",
    "from sklearn.model_selection import cross_val_score\n",
    "from sklearn.linear_model import LogisticRegression"
   ]
  },
  {
   "cell_type": "markdown",
   "metadata": {},
   "source": [
    "## Data Fetching"
   ]
  },
  {
   "cell_type": "code",
   "execution_count": 247,
   "metadata": {},
   "outputs": [],
   "source": [
    "# data from https://www.kaggle.com/datasets/johnsmith88/heart-disease-dataset\n",
    "# possible alternate: https://www.kaggle.com/datasets/fedesoriano/heart-failure-prediction?select=heart.csv\n",
    "\n",
    "data = pd.read_csv(os.path.join(DIR, 'heart.csv'))"
   ]
  },
  {
   "cell_type": "markdown",
   "metadata": {},
   "source": [
    "## Data Processing"
   ]
  },
  {
   "cell_type": "markdown",
   "metadata": {},
   "source": [
    "In the original data, some features consist string values. We need to convert them to numbers. In this case, we use one hot encoding to ensure unbiased analysis."
   ]
  },
  {
   "cell_type": "code",
   "execution_count": 248,
   "metadata": {},
   "outputs": [],
   "source": [
    "# encoder = OneHotEncoder(handle_unknown='ignore')\n",
    "\n",
    "Sex_df = pd.DataFrame(encoder.fit_transform(data[['Sex']]).toarray())\n",
    "ChestPainType_df = pd.DataFrame(encoder.fit_transform(data[['ChestPainType']]).toarray())\n",
    "RestingECG_df =  pd.DataFrame(encoder.fit_transform(data[['RestingECG']]).toarray())\n",
    "ExerciseAngina_df = pd.DataFrame(encoder.fit_transform(data[['ExerciseAngina']]).toarray())\n",
    "ST_Slope_df = pd.DataFrame(encoder.fit_transform(data[['ST_Slope']]).toarray())\n",
    "\n",
    "data = pd.concat([data, Sex_df, ChestPainType_df, RestingECG_df, ExerciseAngina_df, ST_Slope_df], axis=1)\n",
    "data = pd.concat([data, ChestPainType_df, ], axis=1)\n",
    "\n",
    "data.drop('Sex', axis=1, inplace=True)\n",
    "data.drop('ChestPainType', axis=1, inplace=True)\n",
    "data.drop('RestingECG', axis=1, inplace=True)\n",
    "data.drop('ExerciseAngina', axis=1, inplace=True)\n",
    "data.drop('ST_Slope', axis=1, inplace=True)"
   ]
  },
  {
   "cell_type": "code",
   "execution_count": 249,
   "metadata": {},
   "outputs": [],
   "source": [
    "# Normalize appropriate features\n",
    "\n",
    "cols_to_norm = ['RestingBP', 'Cholesterol', 'MaxHR']\n",
    "data[cols_to_norm] = data[cols_to_norm].apply(lambda x: (x - x.min()) / (x.max() - x.min()))\n",
    "\n",
    "data = data.to_numpy()"
   ]
  },
  {
   "cell_type": "code",
   "execution_count": 250,
   "metadata": {},
   "outputs": [],
   "source": [
    "# Separate features and labels\n",
    "\n",
    "X = data[:,:-1]\n",
    "y = data[:,-1]"
   ]
  },
  {
   "cell_type": "code",
   "execution_count": 251,
   "metadata": {},
   "outputs": [],
   "source": [
    "# Split data\n",
    "# train/test/validation = 60/20/20\n",
    "# Random state set to get the same results\n",
    "\n",
    "X_train, X_test, y_train, y_test = train_test_split(X, y, test_size=0.2, random_state=1, shuffle=True)\n",
    "X_train, X_valid, y_train, y_valid = train_test_split(X_train, y_train, test_size=0.2, random_state=2)"
   ]
  },
  {
   "cell_type": "markdown",
   "metadata": {},
   "source": [
    "## Data Analysis"
   ]
  },
  {
   "cell_type": "markdown",
   "metadata": {},
   "source": [
    "### Logistic Regression"
   ]
  },
  {
   "cell_type": "code",
   "execution_count": 252,
   "metadata": {},
   "outputs": [
    {
     "name": "stdout",
     "output_type": "stream",
     "text": [
      "Weights:\n",
      " [ 0.00755064  0.02020315  0.01540529  0.13198464  0.15333062  0.20602664\n",
      " -0.05958815 -0.00947965  0.00948037 -1.51974648 -1.15257729 -1.26707124\n",
      "  3.93939573  0.08457147 -0.14754425  0.0629735   0.34166038 -0.34165965\n",
      "  0.03861582 -0.04776402  0.00914893 -1.51974648 -1.15257729 -1.26707124] \n",
      "\n",
      "Intercept:\n",
      " -2.9771726185105747\n"
     ]
    }
   ],
   "source": [
    "logreg_clf = LogisticRegression(fit_intercept=True, solver='newton-cg').fit(X_train, y_train)\n",
    "print('Weights:\\n', logreg_clf.coef_[0], '\\n')\n",
    "print('Intercept:\\n', logreg_clf.intercept_[0])"
   ]
  },
  {
   "cell_type": "code",
   "execution_count": 253,
   "metadata": {},
   "outputs": [
    {
     "data": {
      "text/plain": [
       "array([0.93333333, 0.96666667, 1.        , 1.        , 0.96551724])"
      ]
     },
     "execution_count": 253,
     "metadata": {},
     "output_type": "execute_result"
    }
   ],
   "source": [
    "cross_val_score(logreg_clf, X_valid, y_valid)"
   ]
  },
  {
   "cell_type": "markdown",
   "metadata": {},
   "source": [
    "### K-Nearest Neighbors"
   ]
  },
  {
   "cell_type": "code",
   "execution_count": null,
   "metadata": {},
   "outputs": [],
   "source": []
  },
  {
   "cell_type": "markdown",
   "metadata": {},
   "source": [
    "### Decision Tree"
   ]
  },
  {
   "cell_type": "code",
   "execution_count": null,
   "metadata": {},
   "outputs": [],
   "source": []
  }
 ],
 "metadata": {
  "interpreter": {
   "hash": "1ee38ef4a5a9feb55287fd749643f13d043cb0a7addaab2a9c224cbe137c0062"
  },
  "kernelspec": {
   "display_name": "Python 3.8.5 64-bit",
   "language": "python",
   "name": "python3"
  },
  "language_info": {
   "codemirror_mode": {
    "name": "ipython",
    "version": 3
   },
   "file_extension": ".py",
   "mimetype": "text/x-python",
   "name": "python",
   "nbconvert_exporter": "python",
   "pygments_lexer": "ipython3",
   "version": "3.8.13"
  },
  "orig_nbformat": 4
 },
 "nbformat": 4,
 "nbformat_minor": 2
}
